{
 "cells": [
  {
   "cell_type": "code",
   "execution_count": 250,
   "metadata": {},
   "outputs": [],
   "source": [
    "\n",
    "def search_doctor_nearby(place_name):\n",
    "    # search the doctors based on the location and return doctor names, rate and their location\n",
    "    import requests\n",
    "    api_key = \"<Google Map Key>\"\n",
    "    url = f'https://maps.googleapis.com/maps/api/geocode/json?address={place_name}&key={api_key}'\n",
    "    detail_url = 'https://maps.googleapis.com/maps/api/place/details/'\n",
    "    try:\n",
    "        response = requests.get(url)\n",
    "        data = response.json()\n",
    "        if data['status'] == 'OK':\n",
    "            # 获取第一个结果的经纬度信息\n",
    "            location = data['results'][0]['geometry']['location']\n",
    "            latitude = location['lat']\n",
    "            longitude = location['lng']\n",
    "        url = 'https://maps.googleapis.com/maps/api/place/nearbysearch/json'\n",
    "        params = {\n",
    "            'key': api_key,\n",
    "            'location': str(latitude)+\",\"+str(longitude),\n",
    "            'radius': 5000,\n",
    "            'type': \"doctor\",\n",
    "            'keyword': 'pulmonologists',\n",
    "            \"rankby\" : \"prominence\"\n",
    "        }\n",
    "        response = requests.get(url, params=params)\n",
    "        results = response.json()['results'][:5]\n",
    "\n",
    "        place_ids = []\n",
    "        \n",
    "        for result in results:\n",
    "            place_ids.append(result['place_id'])\n",
    "\n",
    "        res = []        \n",
    "        for place_id in place_ids:\n",
    "            place_id_url = f'{detail_url}json?place_id={place_id}&key={api_key}'\n",
    "            details = requests.get(f'{detail_url}json?place_id={place_id}&key={api_key}').json()['result']\n",
    "            item = {}\n",
    "            item['name'] = details.get('name')\n",
    "            item[\"address\"] = details.get('formatted_address')\n",
    "            item[\"phone\"] = details.get('formatted_phone_number')\n",
    "            item[\"website\"] = details.get('website')\n",
    "            item['rating'] = details.get(\"rating\")\n",
    "            try:\n",
    "                item[\"top_review\"] = details.get(\"reviews\")[0]['text']\n",
    "            except:\n",
    "                item[\"top_review\"] = None\n",
    "            item[\"wheelchair_accessible_entrance\"] = details.get('wheelchair_accessible_entrance')\n",
    "            res.append(item)\n",
    "\n",
    "        return res\n",
    "    except:\n",
    "        return \"no relevant results\"\n"
   ]
  },
  {
   "cell_type": "code",
   "execution_count": 251,
   "metadata": {},
   "outputs": [
    {
     "data": {
      "text/plain": [
       "[{'name': 'Jalil Ahari, MD',\n",
       "  'address': '2150 Pennsylvania Avenue NW 3RD FLOOR, Washington, DC 20037, USA',\n",
       "  'phone': '(202) 741-3540',\n",
       "  'website': 'https://gwdocs.com/profile/jalil-ahari',\n",
       "  'rating': 4.4,\n",
       "  'top_review': 'I felt completely confident in Dr Jalil’s expertise, and advice.  He was proactive and engaging as we discussed my medical issue.',\n",
       "  'wheelchair_accessible_entrance': True},\n",
       " {'name': 'Ajeet G. Vinayak, MD',\n",
       "  'address': 'Pasquerilla Healthcare Center, 3800 Reservoir Rd NW, Washington, DC 20007, USA',\n",
       "  'phone': '(202) 295-0552',\n",
       "  'website': 'https://www.medstarhealth.org/doctors/ajeet-g-vinayak-md',\n",
       "  'rating': 5,\n",
       "  'top_review': 'Professional, knowledgeable, comprehensive, caring and compassionate. Everything you want in a physician.',\n",
       "  'wheelchair_accessible_entrance': True},\n",
       " {'name': 'Taubin Joel M MD',\n",
       "  'address': '1145 19th St NW #504, Washington, DC 20036, USA',\n",
       "  'phone': '(202) 296-4002',\n",
       "  'website': None,\n",
       "  'rating': 3.9,\n",
       "  'top_review': 'I am so sorry to hear the negative reviews about Dr. Taubin. I absolutely adore him.   I have been going to his office for more than 13 years.  I love Kim.  I don\\'t know her title, but she greets me when I come in and she answers the phones.  I don\\'t go there often, but Kim always remembers my name.  She\\'s been there for years.  I\\'ve always found her to be very helpful.\\n\\nAs others mentioned, Dr. Taubin does talk fast.  I can also understand how others feel rushed.  I used to feel that way until I realized that I am the patient and I still have questions.  I let him know when I don\\'t understand something.  He slows down and explains what I am uncertain about. I always leave his office feeling assured that he heard me and I have received a proper diagnosis. I think that he is aware of the \"feeling rushed\" complaints and he will slow down; but you have to speak up.\\n\\nDr. Taubin also sends his patients to the best specialists in the area.  I had a girlfriend that was diagnosed with cancer and Dr. Taubin referred her to a wonderful specialist.  He had to refer me to two specialist as well.  Both of them were listed in the Washingtonian Magazine Top Doctors during their recent career.\\n\\nOne morning, I was very upset because I had to wait and I let him have it.  He told me that he understood.  He encouraged me to let it all out.  He  apologized and then old me that someone came to the office feeling very  ill first thing in the morning.  He had to call the ambulance, because the patient was having a medical emergency and could have potentially died.  I will always remember that visit.',\n",
       "  'wheelchair_accessible_entrance': True},\n",
       " {'name': 'Pulmonary & Medical Associates: Lewis Mary-Margar MD',\n",
       "  'address': '1400 S Joyce St, Arlington, VA 22202, USA',\n",
       "  'phone': '(703) 521-6662',\n",
       "  'website': None,\n",
       "  'rating': None,\n",
       "  'top_review': None,\n",
       "  'wheelchair_accessible_entrance': True},\n",
       " {'name': 'Dr. Neil Shea',\n",
       "  'address': '1625 N George Mason Dr #355, Arlington, VA 22205, USA',\n",
       "  'phone': '(703) 521-6662',\n",
       "  'website': 'https://www.mypmahealth.com/doctors/dr-neil-shea/',\n",
       "  'rating': 5,\n",
       "  'top_review': 'Great Pulmonologist.',\n",
       "  'wheelchair_accessible_entrance': True}]"
      ]
     },
     "execution_count": 251,
     "metadata": {},
     "output_type": "execute_result"
    }
   ],
   "source": [
    "search_doctor_nearby(\"1601 Clarendon Blvd\")"
   ]
  },
  {
   "cell_type": "code",
   "execution_count": 239,
   "metadata": {},
   "outputs": [
    {
     "data": {
      "text/plain": [
       "['Monday: 9:00\\u202fAM\\u2009–\\u20095:00\\u202fPM',\n",
       " 'Tuesday: 9:00\\u202fAM\\u2009–\\u20095:00\\u202fPM',\n",
       " 'Wednesday: 9:00\\u202fAM\\u2009–\\u20095:00\\u202fPM',\n",
       " 'Thursday: 9:00\\u202fAM\\u2009–\\u20095:00\\u202fPM',\n",
       " 'Friday: 9:00\\u202fAM\\u2009–\\u20095:00\\u202fPM',\n",
       " 'Saturday: Closed',\n",
       " 'Sunday: Closed']"
      ]
     },
     "execution_count": 239,
     "metadata": {},
     "output_type": "execute_result"
    }
   ],
   "source": [
    "hours_str = ['Monday: 9:00\\u202fAM\\u2009–\\u20095:00\\u202fPM',\n",
    "   'Tuesday: 9:00\\u202fAM\\u2009–\\u20095:00\\u202fPM',\n",
    "   'Wednesday: 9:00\\u202fAM\\u2009–\\u20095:00\\u202fPM',\n",
    "   'Thursday: 9:00\\u202fAM\\u2009–\\u20095:00\\u202fPM',\n",
    "   'Friday: 9:00\\u202fAM\\u2009–\\u20095:00\\u202fPM',\n",
    "   'Saturday: Closed',\n",
    "   'Sunday: Closed']\n",
    "for hour in hours_str:\n",
    "    hour = hour.replace(\"\\u202f\",\" \").replace(\"\\u2009\",\" \")\n",
    "hours_str"
   ]
  },
  {
   "cell_type": "code",
   "execution_count": 221,
   "metadata": {},
   "outputs": [
    {
     "data": {
      "text/plain": [
       "'Monday: 9:00 AM – 5:00 PM'"
      ]
     },
     "execution_count": 221,
     "metadata": {},
     "output_type": "execute_result"
    }
   ],
   "source": [
    "'Monday: 9:00\\u202fAM\\u2009–\\u20095:00\\u202fPM'.replace(\"\\u202f\",\" \").replace(\"\\u2009\",\" \")"
   ]
  },
  {
   "cell_type": "code",
   "execution_count": null,
   "metadata": {},
   "outputs": [],
   "source": []
  }
 ],
 "metadata": {
  "kernelspec": {
   "display_name": "ANLY501",
   "language": "python",
   "name": "python3"
  },
  "language_info": {
   "codemirror_mode": {
    "name": "ipython",
    "version": 3
   },
   "file_extension": ".py",
   "mimetype": "text/x-python",
   "name": "python",
   "nbconvert_exporter": "python",
   "pygments_lexer": "ipython3",
   "version": "3.10.9"
  }
 },
 "nbformat": 4,
 "nbformat_minor": 2
}
