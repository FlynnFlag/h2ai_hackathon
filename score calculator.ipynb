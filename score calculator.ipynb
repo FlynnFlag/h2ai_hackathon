{
 "cells": [
  {
   "cell_type": "markdown",
   "metadata": {},
   "source": [
    "# survey score calculation"
   ]
  },
  {
   "cell_type": "markdown",
   "metadata": {},
   "source": [
    "- Age - FEV1/FVC\n",
    "    - 15-25: 0\n",
    "    - 26-36 : 1\n",
    "    - 37-47 : 2\n",
    "    - 48-58/ 0-14: 3\n",
    "    - 59-69: 4\n",
    "    - over 70: 5\n",
    "\n",
    "Resouce: Is Chronic Obstructive Pulmonary Disease an Accelerated Aging Disease?"
   ]
  },
  {
   "cell_type": "markdown",
   "metadata": {},
   "source": [
    "- Cigarettes per day - FEV1/FVC\n",
    "  - never smoke: 0\n",
    "  - Cigarettes per day <= 10\n",
    "  - 10.1 - 20: 2\n",
    "  - 20.1 - 30: 3\n",
    "  - 30.1 - 40: 4\n",
    "  - more than 40.1: 5\n",
    "\n",
    "- Duration of smoking - FEV1/FVC\n",
    "  - never smoke: 0\n",
    "  - less than 10: 1\n",
    "  - 10.1 - 20: 2\n",
    "  - 20.1 - 30: 3\n",
    "  - 30.1 - 40: 4\n",
    "  - more than 40.1: 5\n",
    "\n",
    "Reference: Smoking duration alone provides stronger risk estimates of chronic obstructive pulmonary disease than pack-years"
   ]
  },
  {
   "cell_type": "code",
   "execution_count": 1,
   "metadata": {},
   "outputs": [],
   "source": [
    "# input example\n",
    "patient_scores = [\n",
    "    [3, 5, 2, 4, 5, 2, 4, 1, 1, 0, 2], \n",
    "    [4, 4, 3, 5, 2, 1, 1, 4, 2, 5, 3], \n",
    "    [0, 2, 4, 1, 5, 3, 0, 3, 2, 5, 1]  \n",
    "]"
   ]
  },
  {
   "cell_type": "code",
   "execution_count": 2,
   "metadata": {},
   "outputs": [],
   "source": [
    "# When we calculate the total score of COPD, besides each score of eight questions in CAT questionaire, I also add another 3 questions. \n",
    "# So totally, we will have 11 questions, for each question, the score range is 0-5.\n",
    "\n",
    "def calculate_scores(scores):\n",
    "    total_scores = []\n",
    "    labels = []\n",
    "\n",
    "    def determine_label(score):\n",
    "        if 0 <= score <= 12:\n",
    "            return \"Low Impact\"\n",
    "        elif 13 <= score <= 27:\n",
    "            return \"Moderate Impact\"\n",
    "        elif 28 <= score <= 41:\n",
    "            return \"High Impact\"\n",
    "        elif 42 <= score <= 55:\n",
    "            return \"Very High Impact\"\n",
    "        else:\n",
    "            return \"Out of defined range\"\n",
    "\n",
    "    for score in scores:\n",
    "        total = sum(score)\n",
    "        total_scores.append(total)\n",
    "        labels.append(determine_label(total))\n",
    "    \n",
    "    return total_scores, labels\n"
   ]
  },
  {
   "cell_type": "code",
   "execution_count": 3,
   "metadata": {},
   "outputs": [
    {
     "name": "stdout",
     "output_type": "stream",
     "text": [
      "The total socre of patient 1 is：29，stage：High Impact\n",
      "The total socre of patient 2 is：34，stage：High Impact\n",
      "The total socre of patient 3 is：26，stage：Moderate Impact\n"
     ]
    }
   ],
   "source": [
    "total_scores, impact_labels = calculate_scores(patient_scores)\n",
    "\n",
    "for index, (total, label) in enumerate(zip(total_scores, impact_labels), start=1):\n",
    "    print(f\"The total socre of patient {index} is：{total}，stage：{label}\")"
   ]
  }
 ],
 "metadata": {
  "kernelspec": {
   "display_name": "Python 3",
   "language": "python",
   "name": "python3"
  },
  "language_info": {
   "codemirror_mode": {
    "name": "ipython",
    "version": 3
   },
   "file_extension": ".py",
   "mimetype": "text/x-python",
   "name": "python",
   "nbconvert_exporter": "python",
   "pygments_lexer": "ipython3",
   "version": "3.11.9"
  }
 },
 "nbformat": 4,
 "nbformat_minor": 2
}
